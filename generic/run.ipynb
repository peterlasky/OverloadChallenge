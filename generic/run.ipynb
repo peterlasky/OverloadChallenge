{
 "cells": [
  {
   "cell_type": "code",
   "execution_count": 5,
   "metadata": {},
   "outputs": [],
   "source": [
    "import sys\n",
    "from pathlib import Path\n",
    "\n",
    "# Add parent directory to Python path\n",
    "notebook_dir = Path().absolute()  # This will be the generic directory\n",
    "parent_dir = notebook_dir.parent\n",
    "sys.path.append(str(parent_dir))\n",
    "\n",
    "from generic_kenken import Kenken as CSP\n",
    "from generic_kenken import Cage as Variable\n",
    "from generic_solver import Solver\n",
    "from utils.print import pprint\n",
    "\n"
   ]
  },
  {
   "cell_type": "code",
   "execution_count": 6,
   "metadata": {},
   "outputs": [
    {
     "name": "stdout",
     "output_type": "stream",
     "text": [
      "domain sizes pre ac3:\n",
      "[8, 8, 6, 172, 6, 4, 7, 2, 2, 39, 4, 12, 2, 12, 14, 7, 12, 4, 4, 8, 8, 8, 39, 6, 12, 14]\n",
      "\n",
      "Domain sizes after ac3:\n",
      "[3, 2, 1, 6, 6, 1, 2, 2, 1, 4, 4, 8, 2, 10, 6, 5, 6, 4, 2, 4, 8, 4, 21, 6, 3, 7]\n",
      "\n",
      "\u001b[38;5;1m4-   2 \u001b[0m  \u001b[38;5;5m6+   3 \u001b[0m  \u001b[38;5;10m12+  4 \u001b[0m  \u001b[38;5;10m     5 \u001b[0m  \u001b[38;5;14m2-   6 \u001b[0m  \u001b[38;5;25m56x  8 \u001b[0m  \u001b[38;5;25m     1 \u001b[0m  \u001b[38;5;6m5-   7 \u001b[0m       \u001b[38;5;1mA \u001b[38;5;5mE \u001b[38;5;10mJ \u001b[38;5;10mJ \u001b[38;5;14mN \u001b[38;5;25mQ \u001b[38;5;25mQ \u001b[38;5;6mX \n",
      "\u001b[38;5;1m     6 \u001b[0m  \u001b[38;5;5m     1 \u001b[0m  \u001b[38;5;8m14+  8 \u001b[0m  \u001b[38;5;10m     3 \u001b[0m  \u001b[38;5;14m     4 \u001b[0m  \u001b[38;5;23m12+  5 \u001b[0m  \u001b[38;5;25m     7 \u001b[0m  \u001b[38;5;6m     2 \u001b[0m       \u001b[38;5;1mA \u001b[38;5;5mE \u001b[38;5;8mH \u001b[38;5;10mJ \u001b[38;5;14mN \u001b[38;5;23mR \u001b[38;5;25mQ \u001b[38;5;6mX \n",
      "\u001b[38;5;2m4-   8 \u001b[0m  \u001b[38;5;5m     2 \u001b[0m  \u001b[38;5;8m     6 \u001b[0m  \u001b[38;5;12m60x  4 \u001b[0m  \u001b[38;5;12m     3 \u001b[0m  \u001b[38;5;23m     7 \u001b[0m  \u001b[38;5;3m4-   5 \u001b[0m  \u001b[38;5;3m     1 \u001b[0m       \u001b[38;5;2mB \u001b[38;5;5mE \u001b[38;5;8mH \u001b[38;5;12mL \u001b[38;5;12mL \u001b[38;5;23mR \u001b[38;5;3mU \u001b[38;5;3mU \n",
      "\u001b[38;5;2m     4 \u001b[0m  \u001b[38;5;3m210x 7 \u001b[0m  \u001b[38;5;9m7-   1 \u001b[0m  \u001b[38;5;9m     8 \u001b[0m  \u001b[38;5;12m     5 \u001b[0m  \u001b[38;5;1m6x   3 \u001b[0m  \u001b[38;5;1m     2 \u001b[0m  \u001b[38;5;7m2-   6 \u001b[0m       \u001b[38;5;2mB \u001b[38;5;3mC \u001b[38;5;9mI \u001b[38;5;9mI \u001b[38;5;12mL \u001b[38;5;1mS \u001b[38;5;1mS \u001b[38;5;7mY \n",
      "\u001b[38;5;3m     5 \u001b[0m  \u001b[38;5;3m     6 \u001b[0m  \u001b[38;5;6m735x 7 \u001b[0m  \u001b[38;5;13m3+   1 \u001b[0m  \u001b[38;5;13m     2 \u001b[0m  \u001b[38;5;2m2÷   4 \u001b[0m  \u001b[38;5;4m2÷   3 \u001b[0m  \u001b[38;5;7m     8 \u001b[0m       \u001b[38;5;3mC \u001b[38;5;3mC \u001b[38;5;6mF \u001b[38;5;13mM \u001b[38;5;13mM \u001b[38;5;2mT \u001b[38;5;4mV \u001b[38;5;7mY \n",
      "\u001b[38;5;4m15+  1 \u001b[0m  \u001b[38;5;6m     5 \u001b[0m  \u001b[38;5;6m     3 \u001b[0m  \u001b[38;5;6m     7 \u001b[0m  \u001b[38;5;15m1-   8 \u001b[0m  \u001b[38;5;2m     2 \u001b[0m  \u001b[38;5;4m     6 \u001b[0m  \u001b[38;5;8m1-   4 \u001b[0m       \u001b[38;5;4mD \u001b[38;5;6mF \u001b[38;5;6mF \u001b[38;5;6mF \u001b[38;5;15mO \u001b[38;5;2mT \u001b[38;5;4mV \u001b[38;5;8mZ \n",
      "\u001b[38;5;4m     3 \u001b[0m  \u001b[38;5;4m     4 \u001b[0m  \u001b[38;5;7m80x  2 \u001b[0m  \u001b[38;5;11m3÷   6 \u001b[0m  \u001b[38;5;15m     7 \u001b[0m  \u001b[38;5;220m6x   1 \u001b[0m  \u001b[38;5;5m15+  8 \u001b[0m  \u001b[38;5;8m     5 \u001b[0m       \u001b[38;5;4mD \u001b[38;5;4mD \u001b[38;5;7mG \u001b[38;5;11mK \u001b[38;5;15mO \u001b[38;5;220mP \u001b[38;5;5mW \u001b[38;5;8mZ \n",
      "\u001b[38;5;4m     7 \u001b[0m  \u001b[38;5;7m     8 \u001b[0m  \u001b[38;5;7m     5 \u001b[0m  \u001b[38;5;11m     2 \u001b[0m  \u001b[38;5;220m     1 \u001b[0m  \u001b[38;5;220m     6 \u001b[0m  \u001b[38;5;5m     4 \u001b[0m  \u001b[38;5;5m     3 \u001b[0m       \u001b[38;5;4mD \u001b[38;5;7mG \u001b[38;5;7mG \u001b[38;5;11mK \u001b[38;5;220mP \u001b[38;5;220mP \u001b[38;5;5mW \u001b[38;5;5mW \n",
      "\u001b[0m\n",
      "\u001b[49m\n"
     ]
    }
   ],
   "source": [
    "\n",
    "# Since we're in generic/, we need to go up one level to find assets/\n",
    "puzzle = 8\n",
    "\n",
    "file = parent_dir / 'assets' / 'kenken_puzzles' / f'puzzle_{puzzle}.txt'\n",
    "csp = CSP(str(file))  # Convert Path to string for open()\n",
    "\n",
    "solver = Solver(csp)\n",
    "assignment = solver.solve()\n",
    "print()\n",
    "pprint(csp, assignment)"
   ]
  }
 ],
 "metadata": {
  "kernelspec": {
   "display_name": "base",
   "language": "python",
   "name": "python3"
  },
  "language_info": {
   "codemirror_mode": {
    "name": "ipython",
    "version": 3
   },
   "file_extension": ".py",
   "mimetype": "text/x-python",
   "name": "python",
   "nbconvert_exporter": "python",
   "pygments_lexer": "ipython3",
   "version": "3.12.2"
  }
 },
 "nbformat": 4,
 "nbformat_minor": 2
}
