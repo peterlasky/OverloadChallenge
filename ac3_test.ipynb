{
 "cells": [
  {
   "cell_type": "code",
   "execution_count": 1,
   "metadata": {},
   "outputs": [],
   "source": [
    "from pathlib import Path\n",
    "import importlib\n",
    "import time\n",
    "from functools import cache\n",
    "from crossword import Crossword\n",
    "\n",
    "class Timer:\n",
    "    ''' simple timer '''\n",
    "    def __enter__(self):\n",
    "        self.start_time = time.time()\n",
    "        return self\n",
    "\n",
    "    def __exit__(self, exc_type, exc_value, traceback):\n",
    "        self.end_time = time.time()\n",
    "        self.elapsed_time = self.end_time - self.start_time\n",
    "        print(f\"  (elapsed: {self.elapsed_time*1000:,.4f} milliseconds)\")\n",
    "\n",
    "@cache\n",
    "def crossword_instance(puzzle):\n",
    "    '''\n",
    "    Helper function to retreive an initialized crossword\n",
    "    '''\n",
    "    structure_file = Path('assets/crossword_data') / f'structure{puzzle}.txt'\n",
    "    word_file = Path('assets/crossword_data') / f'words{puzzle}.txt'\n",
    "    return Crossword(structure_file, word_file)\n",
    "\n"
   ]
  },
  {
   "cell_type": "code",
   "execution_count": 2,
   "metadata": {},
   "outputs": [
    {
     "name": "stdout",
     "output_type": "stream",
     "text": [
      "Size of variable domains after ac3()\n",
      "Puzzle 0\n",
      "pcoster       :[1, 1, 1, 1] :[passed]  (elapsed: 0.0708 milliseconds)\n",
      "verano_20     :[1, 1, 1, 1] :[passed]  (elapsed: 0.0563 milliseconds)\n",
      "hadeeer98     :[1, 1, 2, 1] :[failed]  (elapsed: 0.0548 milliseconds)\n",
      "chezslice     :[3, 4, 3, 3] :[failed]  (elapsed: 0.0238 milliseconds)\n",
      "marcoshernanz :[1, 1, 2, 1] :[failed]  (elapsed: 0.0410 milliseconds)\n",
      "iron8kid      :[3, 4, 3, 3] :[failed]  (elapsed: 0.1285 milliseconds)\n",
      "\n",
      "Puzzle 1\n",
      "pcoster       :[1, 2, 1, 1, 1, 2] :[passed]  (elapsed: 0.1631 milliseconds)\n",
      "verano_20     :[1, 2, 1, 1, 1, 2] :[passed]  (elapsed: 0.1435 milliseconds)\n",
      "hadeeer98     :[1, 2, 1, 1, 1, 2] :[passed]  (elapsed: 0.1307 milliseconds)\n",
      "chezslice     :[5, 5, 10, 4, 10, 5] :[failed]  (elapsed: 0.0591 milliseconds)\n",
      "marcoshernanz :[1, 2, 1, 1, 1, 2] :[passed]  (elapsed: 0.0920 milliseconds)\n",
      "iron8kid      :[5, 5, 10, 4, 10, 5] :[failed]  (elapsed: 0.3316 milliseconds)\n",
      "\n",
      "Puzzle 2\n",
      "pcoster       :[414, 500, 500, 382, 490, 169] :[passed]  (elapsed: 116.2434 milliseconds)\n",
      "verano_20     :[414, 500, 500, 382, 490, 169] :[passed]  (elapsed: 1,078.7702 milliseconds)\n",
      "hadeeer98     :[414, 502, 502, 382, 490, 169] :[failed]  (elapsed: 322.1340 milliseconds)\n",
      "chezslice     :[491, 502, 502, 483, 502, 174] :[failed]  (elapsed: 2.1701 milliseconds)\n",
      "marcoshernanz :[414, 502, 502, 382, 490, 169] :[failed]  (elapsed: 11.8203 milliseconds)\n",
      "iron8kid      :[491, 502, 502, 483, 502, 174] :[failed]  (elapsed: 271.5151 milliseconds)\n",
      "\n",
      "Puzzle 3\n",
      "pcoster       :[2, 2, 2, 2, 2, 2, 2, 2, 2, 2] :[passed]  (elapsed: 0.7601 milliseconds)\n",
      "verano_20     :[2, 2, 2, 2, 2, 2, 2, 2, 2, 2] :[passed]  (elapsed: 0.8316 milliseconds)\n",
      "hadeeer98     :[2, 2, 2, 2, 2, 2, 2, 2, 2, 2] :[passed]  (elapsed: 0.3705 milliseconds)\n",
      "chezslice     :[16, 16, 16, 16, 16, 16, 16, 16, 16, 16] :[failed]  (elapsed: 0.0482 milliseconds)\n",
      "marcoshernanz :[2, 2, 2, 2, 2, 2, 2, 2, 2, 2] :[passed]  (elapsed: 0.2203 milliseconds)\n",
      "  (elapsed: 22,696.9986 milliseconds)\n"
     ]
    },
    {
     "ename": "KeyboardInterrupt",
     "evalue": "",
     "output_type": "error",
     "traceback": [
      "\u001b[0;31m---------------------------------------------------------------------------\u001b[0m",
      "\u001b[0;31mKeyboardInterrupt\u001b[0m                         Traceback (most recent call last)",
      "Cell \u001b[0;32mIn[2], line 35\u001b[0m\n\u001b[1;32m     33\u001b[0m creator \u001b[38;5;241m=\u001b[39m TestAC3(crossword)\n\u001b[1;32m     34\u001b[0m creator\u001b[38;5;241m.\u001b[39menforce_node_consistency()\n\u001b[0;32m---> 35\u001b[0m creator\u001b[38;5;241m.\u001b[39mac3()\n\u001b[1;32m     36\u001b[0m lengths \u001b[38;5;241m=\u001b[39m creator\u001b[38;5;241m.\u001b[39mlengths\n\u001b[1;32m     38\u001b[0m \u001b[38;5;28mprint\u001b[39m(\u001b[38;5;124mf\u001b[39m\u001b[38;5;124m'\u001b[39m\u001b[38;5;132;01m{\u001b[39;00mname\u001b[38;5;132;01m:\u001b[39;00m\u001b[38;5;124m14\u001b[39m\u001b[38;5;132;01m}\u001b[39;00m\u001b[38;5;124m:\u001b[39m\u001b[38;5;132;01m{\u001b[39;00m\u001b[38;5;28mstr\u001b[39m(lengths)\u001b[38;5;132;01m:\u001b[39;00m\u001b[38;5;132;01m{\u001b[39;00m\u001b[38;5;28mlen\u001b[39m(expected_results[puzzle])\u001b[38;5;241m*\u001b[39m\u001b[38;5;241m2\u001b[39m\u001b[38;5;132;01m}\u001b[39;00m\u001b[38;5;132;01m}\u001b[39;00m\u001b[38;5;124m'\u001b[39m, end\u001b[38;5;241m=\u001b[39m\u001b[38;5;124m'\u001b[39m\u001b[38;5;124m :\u001b[39m\u001b[38;5;124m'\u001b[39m)\n",
      "File \u001b[0;32m~/Desktop/OverloadChallenge/crossword_creators/iron8kid.py:150\u001b[0m, in \u001b[0;36mCrosswordCreator.ac3\u001b[0;34m(self, arcs)\u001b[0m\n\u001b[1;32m    148\u001b[0m                 arcs\u001b[38;5;241m.\u001b[39mappend((x,y))\n\u001b[1;32m    149\u001b[0m \u001b[38;5;28;01mwhile\u001b[39;00m \u001b[38;5;28mlen\u001b[39m(arcs):\n\u001b[0;32m--> 150\u001b[0m     (X,Y)\u001b[38;5;241m=\u001b[39marcs\u001b[38;5;241m.\u001b[39mpop(\u001b[38;5;241m0\u001b[39m)\n\u001b[1;32m    151\u001b[0m     \u001b[38;5;28;01mif\u001b[39;00m \u001b[38;5;28mself\u001b[39m\u001b[38;5;241m.\u001b[39mrevise(X,Y):\n\u001b[1;32m    152\u001b[0m         \u001b[38;5;28;01mif\u001b[39;00m \u001b[38;5;28mlen\u001b[39m(\u001b[38;5;28mself\u001b[39m\u001b[38;5;241m.\u001b[39mdomains[X])\u001b[38;5;241m==\u001b[39m\u001b[38;5;241m0\u001b[39m:\n",
      "\u001b[0;31mKeyboardInterrupt\u001b[0m: "
     ]
    }
   ],
   "source": [
    "creator_names = [\n",
    "    #\"baseline\",\n",
    "    \"pcoster\", \n",
    "    \"verano_20\", \n",
    "    \"hadeeer98\", \n",
    "    \"chezslice\", \n",
    "    \"marcoshernanz\",\n",
    "    \"iron8kid\"\n",
    "]\n",
    "expected_results = {0: [1,1,1,1],\n",
    "                    1: [1,2,1,1,1,2],\n",
    "                    2: [414, 500, 500, 382, 490, 169],\n",
    "                    3: [2, 2, 2, 2, 2, 2, 2, 2, 2, 2]}\n",
    "\n",
    "\n",
    "print('Size of variable domains after ac3()')\n",
    "for puzzle in (0,1,2,3):\n",
    "    print(f'Puzzle {puzzle}')\n",
    "    for name in creator_names:\n",
    "        crossword = crossword_instance(puzzle)\n",
    "        module = importlib.import_module(f\"crossword_creators.{name}\")\n",
    "        StudentCreator = module.CrosswordCreator\n",
    "        \n",
    "        class TestAC3(StudentCreator):\n",
    "            def __init__(self, crossword):\n",
    "                super().__init__(crossword)\n",
    "\n",
    "            @property\n",
    "            def lengths(self):\n",
    "                l1 = sorted([(k, len(v)) for k, v in self.domains.items()], key=lambda x: x[0].id)\n",
    "                return [y for (x,y) in l1]\n",
    "        with Timer():\n",
    "            creator = TestAC3(crossword)\n",
    "            creator.enforce_node_consistency()\n",
    "            creator.ac3()\n",
    "            lengths = creator.lengths\n",
    "            \n",
    "            print(f'{name:14}:{str(lengths):{len(expected_results[puzzle])*2}}', end=' :')\n",
    "            print('[passed]' if lengths==expected_results[puzzle] else '[failed]', end = '')\n",
    "            \n",
    "    print()\n"
   ]
  }
 ],
 "metadata": {
  "kernelspec": {
   "display_name": "base",
   "language": "python",
   "name": "python3"
  },
  "language_info": {
   "codemirror_mode": {
    "name": "ipython",
    "version": 3
   },
   "file_extension": ".py",
   "mimetype": "text/x-python",
   "name": "python",
   "nbconvert_exporter": "python",
   "pygments_lexer": "ipython3",
   "version": "3.12.2"
  }
 },
 "nbformat": 4,
 "nbformat_minor": 2
}
