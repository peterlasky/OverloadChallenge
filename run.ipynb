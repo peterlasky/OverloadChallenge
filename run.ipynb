{
 "cells": [
  {
   "cell_type": "code",
   "execution_count": 1,
   "metadata": {},
   "outputs": [],
   "source": [
    "from pathlib import Path\n",
    "path = Path('assets')\n",
    "from crossword import Crossword\n",
    "from utils.print import pprint\n",
    "import inspect\n",
    "import itertools\n",
    "import copy\n",
    "\n",
    "'''Choose a creator: the third one will fail at the ac3 step and at the sorting step.'''\n",
    "from crossword_creators.verano_20 import CrosswordCreator\n",
    "#from crossword_creators.pcoster import CrosswordCreator\n",
    "#from crossword_creators.chezslice import CrosswordCreator\n",
    "\n",
    "n_params = lambda func: len(inspect.signature(func).parameters)\n",
    "num_params = len(inspect.signature(CrosswordCreator.solve).parameters)\n"
   ]
  },
  {
   "cell_type": "code",
   "execution_count": 2,
   "metadata": {},
   "outputs": [
    {
     "name": "stdout",
     "output_type": "stream",
     "text": [
      "██████D\n",
      "DISH██I\n",
      "E██UPON\n",
      "A██M██N\n",
      "R██A██E\n",
      "█SIN██R\n"
     ]
    }
   ],
   "source": [
    "''' Build a crossword puzzle from a list of words and a puzzle structure '''\n",
    "from crossword import Crossword\n",
    "puzzle = 2   # 0,1,2,3 are available\n",
    "structure_file = path / 'crossword_data' / f'structure{puzzle}.txt'\n",
    "word_file = path / 'crossword_data' / f'words{puzzle}.txt'\n",
    "crossword = Crossword(structure_file, word_file)\n",
    "creator = CrosswordCreator(crossword)\n",
    "if num_params == 2: solution = creator.solve(True)\n",
    "else: solution = creator.solve()\n",
    "creator.print(solution)"
   ]
  },
  {
   "cell_type": "code",
   "execution_count": 3,
   "metadata": {},
   "outputs": [],
   "source": [
    "''' Wrap the crossword builder in a kenken solver '''\n",
    "\n",
    "from kenken import Kenken\n",
    "class KenkenSolver(CrosswordCreator):  # Inherit the ac3 and backtracking algorithms..\n",
    "    def __init__(self, kenken):\n",
    "        self.kenken = kenken\n",
    "        self.crossword = kenken\n",
    "        self.crossword.variables = self.kenken\n",
    "        super().__init__(self.kenken)\n",
    "        self.domains = {var: var.domain for var in kenken.variables}\n",
    "        self.print = lambda assignment: pprint(self.kenken, assignment)"
   ]
  },
  {
   "cell_type": "code",
   "execution_count": 4,
   "metadata": {},
   "outputs": [
    {
     "name": "stdout",
     "output_type": "stream",
     "text": [
      "initial ac3 succeeded\n",
      "backtrack completed\n",
      "\u001b[38;5;1m3÷  2 \u001b[0m  \u001b[38;5;6m2-  3 \u001b[0m  \u001b[38;5;6m    5 \u001b[0m  \u001b[38;5;11m5-  6 \u001b[0m  \u001b[38;5;15m5-  7 \u001b[0m  \u001b[38;5;23m3-  1 \u001b[0m  \u001b[38;5;23m    4 \u001b[0m      \u001b[38;5;1mA \u001b[38;5;6mF \u001b[38;5;6mF \u001b[38;5;11mK \u001b[38;5;15mO \u001b[38;5;23mR \u001b[38;5;23mR \n",
      "\u001b[38;5;1m    6 \u001b[0m  \u001b[38;5;7m1-  5 \u001b[0m  \u001b[38;5;7m    4 \u001b[0m  \u001b[38;5;11m    1 \u001b[0m  \u001b[38;5;15m    2 \u001b[0m  \u001b[38;5;1m14+ 3 \u001b[0m  \u001b[38;5;4m9+  7 \u001b[0m      \u001b[38;5;1mA \u001b[38;5;7mG \u001b[38;5;7mG \u001b[38;5;11mK \u001b[38;5;15mO \u001b[38;5;1mS \u001b[38;5;4mV \n",
      "\u001b[38;5;2m21x 1 \u001b[0m  \u001b[38;5;2m    7 \u001b[0m  \u001b[38;5;2m    3 \u001b[0m  \u001b[38;5;12m5=  5 \u001b[0m  \u001b[38;5;220m2÷  6 \u001b[0m  \u001b[38;5;1m    4 \u001b[0m  \u001b[38;5;4m    2 \u001b[0m      \u001b[38;5;2mB \u001b[38;5;2mB \u001b[38;5;2mB \u001b[38;5;12mL \u001b[38;5;220mP \u001b[38;5;1mS \u001b[38;5;4mV \n",
      "\u001b[38;5;3m1-  4 \u001b[0m  \u001b[38;5;8m24x 6 \u001b[0m  \u001b[38;5;9m1=  1 \u001b[0m  \u001b[38;5;13m14x 2 \u001b[0m  \u001b[38;5;220m    3 \u001b[0m  \u001b[38;5;1m    7 \u001b[0m  \u001b[38;5;5m30x 5 \u001b[0m      \u001b[38;5;3mC \u001b[38;5;8mH \u001b[38;5;9mI \u001b[38;5;13mM \u001b[38;5;220mP \u001b[38;5;1mS \u001b[38;5;5mW \n",
      "\u001b[38;5;3m    5 \u001b[0m  \u001b[38;5;8m    4 \u001b[0m  \u001b[38;5;10m4-  6 \u001b[0m  \u001b[38;5;13m    7 \u001b[0m  \u001b[38;5;13m    1 \u001b[0m  \u001b[38;5;5m    2 \u001b[0m  \u001b[38;5;5m    3 \u001b[0m      \u001b[38;5;3mC \u001b[38;5;8mH \u001b[38;5;10mJ \u001b[38;5;13mM \u001b[38;5;13mM \u001b[38;5;5mW \u001b[38;5;5mW \n",
      "\u001b[38;5;4m7=  7 \u001b[0m  \u001b[38;5;8m    1 \u001b[0m  \u001b[38;5;10m    2 \u001b[0m  \u001b[38;5;14m14+ 3 \u001b[0m  \u001b[38;5;25m1-  4 \u001b[0m  \u001b[38;5;2m1-  5 \u001b[0m  \u001b[38;5;2m    6 \u001b[0m      \u001b[38;5;4mD \u001b[38;5;8mH \u001b[38;5;10mJ \u001b[38;5;14mN \u001b[38;5;25mQ \u001b[38;5;2mT \u001b[38;5;2mT \n",
      "\u001b[38;5;5m1-  3 \u001b[0m  \u001b[38;5;5m    2 \u001b[0m  \u001b[38;5;14m    7 \u001b[0m  \u001b[38;5;14m    4 \u001b[0m  \u001b[38;5;25m    5 \u001b[0m  \u001b[38;5;3m7+  6 \u001b[0m  \u001b[38;5;3m    1 \u001b[0m      \u001b[38;5;5mE \u001b[38;5;5mE \u001b[38;5;14mN \u001b[38;5;14mN \u001b[38;5;25mQ \u001b[38;5;3mU \u001b[38;5;3mU \n",
      "\u001b[0m\n",
      "\u001b[49m\n"
     ]
    }
   ],
   "source": [
    "''' Solve a kenken'''\n",
    "\n",
    "puzzle_number = 4  # [0,..., 10] available\n",
    "puzzle = path / 'kenken_puzzles' / f'puzzle_{puzzle_number}.txt'\n",
    "kenken = Kenken(puzzle)\n",
    "solver = KenkenSolver(kenken)\n",
    "if not solver.ac3():\n",
    "    print('initial ac3 failed')\n",
    "else:\n",
    "    print('initial ac3 succeeded')\n",
    "    solution = solver.backtrack(dict())# if num_params==2 else solver.solve()\n",
    "    if not solution:\n",
    "        print('backtrack failed.')\n",
    "    else: \n",
    "        print('backtrack completed')\n",
    "        solver.print(solution)"
   ]
  },
  {
   "cell_type": "code",
   "execution_count": null,
   "metadata": {},
   "outputs": [],
   "source": []
  }
 ],
 "metadata": {
  "kernelspec": {
   "display_name": "base",
   "language": "python",
   "name": "python3"
  },
  "language_info": {
   "codemirror_mode": {
    "name": "ipython",
    "version": 3
   },
   "file_extension": ".py",
   "mimetype": "text/x-python",
   "name": "python",
   "nbconvert_exporter": "python",
   "pygments_lexer": "ipython3",
   "version": "3.12.2"
  }
 },
 "nbformat": 4,
 "nbformat_minor": 2
}
